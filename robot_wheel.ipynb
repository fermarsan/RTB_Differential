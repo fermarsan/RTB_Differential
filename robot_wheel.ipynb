{
 "cells": [
  {
   "cell_type": "markdown",
   "metadata": {},
   "source": [
    "# Differential steering including robot's width and wheels radius\n",
    "\n",
    "This example shows the movement of a differential robotics platform on an empty space following specific robot's wheel speeds.\n",
    "\n",
    "The model receive the speed of each side of the platform:\n",
    "\n",
    "$$\n",
    "v_l(t)\n",
    "$$\n",
    "\n",
    "$$\n",
    "v_r(t)\n",
    "$$"
   ]
  },
  {
   "cell_type": "markdown",
   "metadata": {},
   "source": [
    "and return the position and direction of the robot:\n",
    "\n",
    "$$\n",
    "X(t) = \\left[ x(t), \\ y(t), \\ \\theta(t) \\right]\n",
    "$$"
   ]
  },
  {
   "cell_type": "code",
   "execution_count": null,
   "metadata": {},
   "outputs": [],
   "source": [
    "import roboticstoolbox as rtb\n",
    "import matplotlib.pyplot as plt\n",
    "import numpy as np"
   ]
  },
  {
   "cell_type": "code",
   "execution_count": null,
   "metadata": {},
   "outputs": [],
   "source": [
    "# Installing the modules\n",
    "# Python robotics toolbox require numpy 1.2x\n",
    "!pip install matplotlib numpy==1.26.4 roboticstoolbox-python"
   ]
  },
  {
   "cell_type": "markdown",
   "metadata": {},
   "source": [
    "This example includes robot's parameters as width and wheels radius:\n",
    "\n",
    "$$\n",
    "W, \\phantom{    } wr\n",
    "$$"
   ]
  },
  {
   "cell_type": "code",
   "execution_count": null,
   "metadata": {},
   "outputs": [],
   "source": [
    "robot_width = 0.12\n",
    "wheel_radius = 0.042"
   ]
  },
  {
   "cell_type": "markdown",
   "metadata": {},
   "source": [
    "Create the robot at $ \\ x=0$, $ \\ y=0$, $ \\ \\theta=\\pi/2 \\ $ (90°)"
   ]
  },
  {
   "cell_type": "code",
   "execution_count": null,
   "metadata": {},
   "outputs": [
    {
     "data": {
      "text/plain": [
       "DiffSteer: x = [ 0, 0, 1.57 ]\n",
       "  W=0.12, steer_max=inf, vel_max=inf, accel_max=inf"
      ]
     },
     "execution_count": 13,
     "metadata": {},
     "output_type": "execute_result"
    }
   ],
   "source": [
    "robot = rtb.DiffSteer(W=robot_width, x0=(0, 0, np.pi/2))\n",
    "robot"
   ]
  },
  {
   "cell_type": "markdown",
   "metadata": {},
   "source": [
    "define the wheel speed vectors $\\omega_1$ and $\\omega_2$, then obtain $v_l$ and $v_r$ through the wheel radius $wr$:\n",
    "\n",
    "$$\n",
    "v_l = \\omega_1 \\cdot wr\n",
    "$$\n",
    "\n",
    "$$\n",
    "v_r = \\omega_2 \\cdot wr\n",
    "$$\n"
   ]
  },
  {
   "cell_type": "code",
   "execution_count": null,
   "metadata": {},
   "outputs": [],
   "source": [
    "ω1 = np.array([2, 4, 2, -6])\n",
    "ω2 = np.array([2, -4, 2, 4])\n",
    "\n",
    "vl = ω1*wheel_radius\n",
    "vr = ω2*wheel_radius"
   ]
  },
  {
   "cell_type": "markdown",
   "metadata": {},
   "source": []
  },
  {
   "cell_type": "code",
   "execution_count": null,
   "metadata": {},
   "outputs": [
    {
     "name": "stdout",
     "output_type": "stream",
     "text": [
      "[[5.14351656e-19 8.40000000e-03 1.57079633e+00]\n",
      " [5.14351656e-19 8.40000000e-03 1.29079633e+00]\n",
      " [2.32138745e-03 1.64728657e-02 1.29079633e+00]\n",
      " [4.64277490e-03 2.45457314e-02 1.29079633e+00]\n",
      " [4.64277490e-03 2.45457314e-02 1.01079633e+00]\n",
      " [9.10473896e-03 3.16626743e-02 1.01079633e+00]\n",
      " [1.35667030e-02 3.87796172e-02 1.01079633e+00]\n",
      " [1.35667030e-02 3.87796172e-02 7.30796327e-01]\n",
      " [1.98217052e-02 4.43863050e-02 7.30796327e-01]\n",
      " [2.60767074e-02 4.99929927e-02 7.30796327e-01]\n",
      " [2.60767074e-02 4.99929927e-02 4.50796327e-01]\n",
      " [3.36375512e-02 5.36527253e-02 4.50796327e-01]\n",
      " [4.11983949e-02 5.73124578e-02 4.50796327e-01]\n",
      " [4.11983949e-02 5.73124578e-02 1.70796327e-01]\n",
      " [4.94761726e-02 5.87401818e-02 1.70796327e-01]]\n"
     ]
    }
   ],
   "source": [
    "times = 5\n",
    "\n",
    "for _ in range(times):\n",
    "    for vl_i, vr_i in zip(vl, vr):\n",
    "        robot.step((vl_i, vr_i))\n",
    "        \n",
    "print(robot.x_hist)"
   ]
  },
  {
   "cell_type": "code",
   "execution_count": null,
   "metadata": {},
   "outputs": [
    {
     "data": {
      "text/plain": [
       "(-0.0024738086298463375,\n",
       " 0.051949981226773086,\n",
       " -0.002937009090029556,\n",
       " 0.06167719089062067)"
      ]
     },
     "execution_count": 16,
     "metadata": {},
     "output_type": "execute_result"
    },
    {
     "data": {
      "image/png": "[encoded data removed]",
      "text/plain": [
       "<Figure size 640x480 with 1 Axes>"
      ]
     },
     "metadata": {},
     "output_type": "display_data"
    }
   ],
   "source": [
    "x = np.insert(robot.x_hist[:,0], 0, robot.x0[0])\n",
    "y = np.insert(robot.x_hist[:,1], 0, robot.x0[1])\n",
    "\n",
    "plt.plot(x, y, marker='.')\n",
    "plt.axis('equal')"
   ]
  }
 ],
 "metadata": {
  "kernelspec": {
   "display_name": "robotics",
   "language": "python",
   "name": "python3"
  },
  "language_info": {
   "codemirror_mode": {
    "name": "ipython",
    "version": 3
   },
   "file_extension": ".py",
   "mimetype": "text/x-python",
   "name": "python",
   "nbconvert_exporter": "python",
   "pygments_lexer": "ipython3",
   "version": "3.11.2"
  }
 },
 "nbformat": 4,
 "nbformat_minor": 2
}
