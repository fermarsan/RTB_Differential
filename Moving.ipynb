{
 "cells": [
  {
   "cell_type": "markdown",
   "metadata": {},
   "source": [
    "# Differential steering platform\n",
    "\n",
    "This example shows the movement of a differential robotics platform on an empty space following a specific path.\n",
    "\n",
    "The model receive the speed of each side of the platform:\n",
    "\n",
    "$$\n",
    "v_l(t)\n",
    "$$\n",
    "\n",
    "$$\n",
    "v_r(t)\n",
    "$$"
   ]
  },
  {
   "cell_type": "markdown",
   "metadata": {},
   "source": [
    "and return the position and direction of the robot:\n",
    "\n",
    "$$\n",
    "X(t) = \\left[ x(t), \\\\ y(t), \\\\ \\theta(t) \\right]\n",
    "$$"
   ]
  },
  {
   "cell_type": "code",
   "execution_count": null,
   "metadata": {},
   "outputs": [],
   "source": [
    "# Installing the modules\n",
    "# Python robotics toolbox require numpy 1.2x\n",
    "!pip install matplotlib numpy==1.26.4 roboticstoolbox-python"
   ]
  },
  {
   "cell_type": "code",
   "execution_count": 2,
   "metadata": {},
   "outputs": [],
   "source": [
    "import roboticstoolbox as rtb\n",
    "import matplotlib.pyplot as plt\n",
    "import numpy as np"
   ]
  },
  {
   "cell_type": "markdown",
   "metadata": {},
   "source": [
    "Create the robot at $ \\ x=0$, $ \\ y=0$, $ \\ \\theta=\\pi/2 \\ $ (90°)"
   ]
  },
  {
   "cell_type": "code",
   "execution_count": 3,
   "metadata": {},
   "outputs": [
    {
     "data": {
      "text/plain": [
       "DiffSteer: x = [ 0, 0, 1.57 ]\n",
       "  W=1, steer_max=inf, vel_max=inf, accel_max=inf"
      ]
     },
     "execution_count": 3,
     "metadata": {},
     "output_type": "execute_result"
    }
   ],
   "source": [
    "robot = rtb.DiffSteer(x0=(0, 0, np.pi/2))\n",
    "robot"
   ]
  },
  {
   "cell_type": "markdown",
   "metadata": {},
   "source": [
    "define the path through the vectors $v_l$ and $v_r$ "
   ]
  },
  {
   "cell_type": "code",
   "execution_count": 4,
   "metadata": {},
   "outputs": [],
   "source": [
    "vl = [2, 4, 2]\n",
    "vr = [2, -4, 2]"
   ]
  },
  {
   "cell_type": "markdown",
   "metadata": {},
   "source": []
  },
  {
   "cell_type": "code",
   "execution_count": 5,
   "metadata": {},
   "outputs": [
    {
     "name": "stdout",
     "output_type": "stream",
     "text": [
      "[[ 1.22464680e-17  2.00000000e-01  1.57079633e+00]\n",
      " [ 1.22464680e-17  2.00000000e-01  7.70796327e-01]\n",
      " [ 1.43471218e-01  3.39341342e-01  7.70796327e-01]\n",
      " [ 2.86942436e-01  4.78682684e-01  7.70796327e-01]\n",
      " [ 2.86942436e-01  4.78682684e-01 -2.92036732e-02]\n",
      " [ 4.86857157e-01  4.72842779e-01 -2.92036732e-02]\n",
      " [ 6.86771878e-01  4.67002875e-01 -2.92036732e-02]\n",
      " [ 6.86771878e-01  4.67002875e-01 -8.29203673e-01]\n",
      " [ 8.21864514e-01  3.19524132e-01 -8.29203673e-01]\n",
      " [ 9.56957150e-01  1.72045389e-01 -8.29203673e-01]\n",
      " [ 9.56957150e-01  1.72045389e-01 -1.62920367e+00]\n",
      " [ 9.45282321e-01 -2.76135666e-02 -1.62920367e+00]\n",
      " [ 9.33607492e-01 -2.27272522e-01 -1.62920367e+00]\n",
      " [ 9.33607492e-01 -2.27272522e-01 -2.42920367e+00]\n",
      " [ 7.82246993e-01 -3.58001246e-01 -2.42920367e+00]]\n"
     ]
    }
   ],
   "source": [
    "times = 5\n",
    "\n",
    "for _ in range(times):\n",
    "    for vl_i, vr_i in zip(vl, vr):\n",
    "        robot.step((vl_i, vr_i))\n",
    "        \n",
    "print(robot.x_hist)"
   ]
  },
  {
   "cell_type": "code",
   "execution_count": 6,
   "metadata": {},
   "outputs": [
    {
     "data": {
      "text/plain": [
       "(-0.047847857489843576,\n",
       " 1.0048050072867152,\n",
       " -0.3998354423701531,\n",
       " 0.520516880220248)"
      ]
     },
     "execution_count": 6,
     "metadata": {},
     "output_type": "execute_result"
    },
    {
     "data": {
      "image/png": "[encoded data removed]",
      "text/plain": [
       "<Figure size 640x480 with 1 Axes>"
      ]
     },
     "metadata": {},
     "output_type": "display_data"
    }
   ],
   "source": [
    "x = np.insert(robot.x_hist[:,0], 0, robot.x0[0])\n",
    "y = np.insert(robot.x_hist[:,1], 0, robot.x0[1])\n",
    "\n",
    "plt.plot(x, y, marker='.')\n",
    "plt.axis('equal')"
   ]
  }
 ],
 "metadata": {
  "kernelspec": {
   "display_name": "robotics",
   "language": "python",
   "name": "python3"
  },
  "language_info": {
   "codemirror_mode": {
    "name": "ipython",
    "version": 3
   },
   "file_extension": ".py",
   "mimetype": "text/x-python",
   "name": "python",
   "nbconvert_exporter": "python",
   "pygments_lexer": "ipython3",
   "version": "3.11.2"
  }
 },
 "nbformat": 4,
 "nbformat_minor": 2
}
