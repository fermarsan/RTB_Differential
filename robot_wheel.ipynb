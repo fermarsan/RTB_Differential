{
 "cells": [
  {
   "cell_type": "markdown",
   "metadata": {},
   "source": [
    "# Differential steering including robot's width and wheels radius\n",
    "\n",
    "This example shows the movement of a differential robotics platform on an empty space following specific robot's wheel speeds.\n",
    "\n",
    "The model receive the speed of each side of the platform:\n",
    "\n",
    "$$\n",
    "v_l(t)\n",
    "$$\n",
    "\n",
    "$$\n",
    "v_r(t)\n",
    "$$"
   ]
  },
  {
   "cell_type": "markdown",
   "metadata": {},
   "source": [
    "and return the position and direction of the robot:\n",
    "\n",
    "$$\n",
    "X(t) = \\left[ x(t), \\ y(t), \\ \\theta(t) \\right]\n",
    "$$"
   ]
  },
  {
   "cell_type": "code",
   "execution_count": null,
   "metadata": {},
   "outputs": [],
   "source": [
    "# Installing the modules\n",
    "# Python robotics toolbox require numpy 1.2x\n",
    "!pip install matplotlib numpy==1.26.4 roboticstoolbox-python"
   ]
  },
  {
   "cell_type": "code",
   "execution_count": 20,
   "metadata": {},
   "outputs": [],
   "source": [
    "import roboticstoolbox as rtb\n",
    "import matplotlib.pyplot as plt\n",
    "import numpy as np"
   ]
  },
  {
   "cell_type": "markdown",
   "metadata": {},
   "source": [
    "This example includes robot's parameters as width and wheels radius:\n",
    "\n",
    "$$\n",
    "W, \\phantom{    } wr\n",
    "$$"
   ]
  },
  {
   "cell_type": "code",
   "execution_count": 21,
   "metadata": {},
   "outputs": [],
   "source": [
    "robot_width = 0.12\n",
    "wheel_radius = 0.042"
   ]
  },
  {
   "cell_type": "markdown",
   "metadata": {},
   "source": [
    "Create the robot at $ \\ x=0$, $ \\ y=0$, $ \\ \\theta=\\pi/2 \\ $ (90°) specifying the robot's width $W$:"
   ]
  },
  {
   "cell_type": "code",
   "execution_count": 22,
   "metadata": {},
   "outputs": [
    {
     "data": {
      "text/plain": [
       "DiffSteer: x = [ 0, 0, 1.57 ]\n",
       "  W=0.12, steer_max=inf, vel_max=inf, accel_max=inf"
      ]
     },
     "execution_count": 22,
     "metadata": {},
     "output_type": "execute_result"
    }
   ],
   "source": [
    "robot = rtb.DiffSteer(W=robot_width, x0=(0, 0, np.pi/2))\n",
    "robot"
   ]
  },
  {
   "cell_type": "markdown",
   "metadata": {},
   "source": [
    "define the wheel speed vectors $\\omega_1$ and $\\omega_2$, then obtain $v_l$ and $v_r$ through the wheel radius $wr$:\n",
    "\n",
    "$$\n",
    "v_l = \\omega_1 \\cdot wr\n",
    "$$\n",
    "\n",
    "$$\n",
    "v_r = \\omega_2 \\cdot wr\n",
    "$$\n"
   ]
  },
  {
   "cell_type": "code",
   "execution_count": 23,
   "metadata": {},
   "outputs": [],
   "source": [
    "ω1 = np.array([2, 4, 2, -6])\n",
    "ω2 = np.array([2, -4, 2, 6])\n",
    "\n",
    "vl = ω1*wheel_radius\n",
    "vr = ω2*wheel_radius"
   ]
  },
  {
   "cell_type": "markdown",
   "metadata": {},
   "source": []
  },
  {
   "cell_type": "code",
   "execution_count": 24,
   "metadata": {},
   "outputs": [
    {
     "name": "stdout",
     "output_type": "stream",
     "text": [
      "[[ 5.14351656e-19  8.40000000e-03  1.57079633e+00]\n",
      " [ 5.14351656e-19  8.40000000e-03  1.29079633e+00]\n",
      " [ 2.32138745e-03  1.64728657e-02  1.29079633e+00]\n",
      " [ 2.32138745e-03  1.64728657e-02  1.71079633e+00]\n",
      " [ 1.14922528e-03  2.47906800e-02  1.71079633e+00]\n",
      " [ 1.14922528e-03  2.47906800e-02  1.43079633e+00]\n",
      " [ 2.32138745e-03  3.31084944e-02  1.43079633e+00]\n",
      " [ 2.32138745e-03  3.31084944e-02  1.85079633e+00]\n",
      " [-1.30104261e-18  4.11813601e-02  1.85079633e+00]\n",
      " [-1.30104261e-18  4.11813601e-02  1.57079633e+00]\n",
      " [-2.65186563e-18  4.95813601e-02  1.57079633e+00]\n",
      " [-2.65186563e-18  4.95813601e-02  1.99079633e+00]\n",
      " [-3.42518781e-03  5.72513072e-02  1.99079633e+00]\n",
      " [-3.42518781e-03  5.72513072e-02  1.71079633e+00]\n",
      " [-4.59734997e-03  6.55691216e-02  1.71079633e+00]\n",
      " [-4.59734997e-03  6.55691216e-02  2.13079633e+00]\n",
      " [-9.05931403e-03  7.26860645e-02  2.13079633e+00]\n",
      " [-9.05931403e-03  7.26860645e-02  1.85079633e+00]\n",
      " [-1.13807015e-02  8.07589302e-02  1.85079633e+00]\n",
      " [-1.13807015e-02  8.07589302e-02  2.27079633e+00]]\n"
     ]
    }
   ],
   "source": [
    "times = 5\n",
    "\n",
    "for _ in range(times):\n",
    "    for vl_i, vr_i in zip(vl, vr):\n",
    "        robot.step((vl_i, vr_i))\n",
    "        \n",
    "print(robot.x_hist)"
   ]
  },
  {
   "cell_type": "code",
   "execution_count": 25,
   "metadata": {},
   "outputs": [
    {
     "data": {
      "text/plain": [
       "Text(0.5, 1.0, 'Robot location')"
      ]
     },
     "execution_count": 25,
     "metadata": {},
     "output_type": "execute_result"
    },
    {
     "data": {
      "image/png": "[encoded data removed]",
      "text/plain": [
       "<Figure size 640x480 with 1 Axes>"
      ]
     },
     "metadata": {},
     "output_type": "display_data"
    }
   ],
   "source": [
    "x = np.insert(robot.x_hist[:,0], 0, robot.x0[0])\n",
    "y = np.insert(robot.x_hist[:,1], 0, robot.x0[1])\n",
    "\n",
    "plt.plot(x, y, marker='.')\n",
    "plt.axis('equal')\n",
    "plt.xlabel('x')\n",
    "plt.ylabel('y')\n",
    "plt.title('Robot location')"
   ]
  }
 ],
 "metadata": {
  "kernelspec": {
   "display_name": "robotics",
   "language": "python",
   "name": "python3"
  },
  "language_info": {
   "codemirror_mode": {
    "name": "ipython",
    "version": 3
   },
   "file_extension": ".py",
   "mimetype": "text/x-python",
   "name": "python",
   "nbconvert_exporter": "python",
   "pygments_lexer": "ipython3",
   "version": "3.11.2"
  }
 },
 "nbformat": 4,
 "nbformat_minor": 2
}
