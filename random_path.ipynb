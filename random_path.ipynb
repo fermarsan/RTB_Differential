{
 "cells": [
  {
   "cell_type": "markdown",
   "metadata": {},
   "source": [
    "# Differential steering platform (random path)\n",
    "\n",
    "This example shows the movement of a differential robotics platform on an empty space following specific robot's side speeds.\n",
    "\n",
    "The model receive the speed of each side of the platform:\n",
    "\n",
    "$$\n",
    "v_l(t)\n",
    "$$\n",
    "\n",
    "$$\n",
    "v_r(t)\n",
    "$$"
   ]
  },
  {
   "cell_type": "markdown",
   "metadata": {},
   "source": [
    "and return the position and direction of the robot:\n",
    "\n",
    "$$\n",
    "X(t) = \\left[ x(t), \\ y(t), \\ \\theta(t) \\right]\n",
    "$$"
   ]
  },
  {
   "cell_type": "code",
   "execution_count": 1,
   "metadata": {},
   "outputs": [],
   "source": [
    "# Installing the modules\n",
    "# Python robotics toolbox require numpy 1.2x\n",
    "# !pip install matplotlib numpy==1.26.4 roboticstoolbox-python"
   ]
  },
  {
   "cell_type": "code",
   "execution_count": 2,
   "metadata": {},
   "outputs": [],
   "source": [
    "import roboticstoolbox as rtb\n",
    "import matplotlib.pyplot as plt\n",
    "import numpy as np\n",
    "from DiffSteer2 import DiffSteer2"
   ]
  },
  {
   "cell_type": "markdown",
   "metadata": {},
   "source": [
    "Create the robot at $ \\ x=0$, $ \\ y=0$, $ \\ \\theta=\\pi/2 \\ $ (90°)"
   ]
  },
  {
   "cell_type": "code",
   "execution_count": 3,
   "metadata": {},
   "outputs": [
    {
     "data": {
      "text/plain": [
       "DiffSteer2: x = [ 0, 0, 1.57 ]\n",
       "  W=1, steer_max=inf, vel_max=inf, accel_max=inf"
      ]
     },
     "execution_count": 3,
     "metadata": {},
     "output_type": "execute_result"
    }
   ],
   "source": [
    "robot = DiffSteer2(x0=(0, 0, np.pi/2))\n",
    "robot"
   ]
  },
  {
   "cell_type": "markdown",
   "metadata": {},
   "source": [
    "define a random path as robot's control"
   ]
  },
  {
   "cell_type": "code",
   "execution_count": 4,
   "metadata": {},
   "outputs": [],
   "source": [
    "robot.control = rtb.RandomPath(1)"
   ]
  },
  {
   "cell_type": "markdown",
   "metadata": {},
   "source": [
    "repeat 5 times the input vectors as simulation steps, using the method `.step()`"
   ]
  },
  {
   "cell_type": "code",
   "execution_count": 5,
   "metadata": {},
   "outputs": [
    {
     "data": {
      "text/plain": [
       "array([[ 3.55455518e-18,  5.80502915e-02,  1.48689691e+00],\n",
       "       [ 5.06845150e-03,  1.18319524e-01,  1.40786086e+00],\n",
       "       [ 1.53544197e-02,  1.80888977e-01,  1.33467944e+00],\n",
       "       [ 3.10248887e-02,  2.46018435e-01,  1.26865570e+00],\n",
       "       [ 5.22329884e-02,  3.14062190e-01,  1.21120024e+00],\n",
       "       [ 7.89752340e-02,  3.85196197e-01,  1.16318964e+00],\n",
       "       [ 1.10895705e-01,  4.59122328e-01,  1.12423608e+00],\n",
       "       [ 1.47296259e-01,  5.35143750e-01,  1.09280959e+00],\n",
       "       [ 1.87379699e-01,  6.12516756e-01,  1.06708827e+00],\n",
       "       [ 2.30449409e-01,  6.90665185e-01,  1.04555033e+00],\n",
       "       [ 2.75964147e-01,  7.69199986e-01,  1.02709158e+00],\n",
       "       [ 3.23518625e-01,  8.47870467e-01,  1.01094449e+00],\n",
       "       [ 3.72809287e-01,  9.26516178e-01,  9.96575490e-01],\n",
       "       [ 4.23605316e-01,  1.00503359e+00,  9.83607261e-01],\n",
       "       [ 4.75727702e-01,  1.08335515e+00,  9.71766870e-01],\n",
       "       [ 5.29034769e-01,  1.16143638e+00,  9.60852265e-01],\n",
       "       [ 5.83412233e-01,  1.23924790e+00,  9.50710551e-01],\n",
       "       [ 6.38766298e-01,  1.31677043e+00,  9.41223688e-01],\n",
       "       [ 6.95018779e-01,  1.39399148e+00,  9.32298891e-01],\n",
       "       [ 7.52103598e-01,  1.47090334e+00,  9.23862039e-01],\n",
       "       [ 8.09964221e-01,  1.54750155e+00,  9.15853064e-01],\n",
       "       [ 8.68551748e-01,  1.62378403e+00,  9.08222647e-01],\n",
       "       [ 9.27823467e-01,  1.69975032e+00,  9.00929829e-01],\n",
       "       [ 9.87741745e-01,  1.77540119e+00,  8.93940229e-01],\n",
       "       [ 1.04827316e+00,  1.85073824e+00,  8.87224716e-01],\n",
       "       [ 1.10938783e+00,  1.92576369e+00,  8.80758393e-01],\n",
       "       [ 1.17105883e+00,  2.00048021e+00,  8.74519812e-01],\n",
       "       [ 1.23326183e+00,  2.07489077e+00,  8.68490366e-01],\n",
       "       [ 1.29597465e+00,  2.14899855e+00,  8.62653801e-01],\n",
       "       [ 1.29787599e+00,  2.15121896e+00,  6.68500276e-01],\n",
       "       [ 1.30245540e+00,  2.15483584e+00,  4.80171239e-01],\n",
       "       [ 1.31012997e+00,  2.15883298e+00,  2.97477450e-01],\n",
       "       [ 1.32100327e+00,  2.16216646e+00,  1.20223057e-01],\n",
       "       [ 1.33489517e+00,  2.16384468e+00, -5.17911446e-02],\n",
       "       [ 1.35138646e+00,  2.16298981e+00, -2.18764267e-01],\n",
       "       [ 1.36987123e+00,  2.15888023e+00, -3.80892095e-01],\n",
       "       [ 1.38961121e+00,  2.15097541e+00, -5.38364325e-01],\n",
       "       [ 1.40978792e+00,  2.13892571e+00, -6.91362405e-01],\n",
       "       [ 1.42954982e+00,  2.12257019e+00, -8.40057989e-01],\n",
       "       [ 1.44805271e+00,  2.10192535e+00, -9.84611941e-01],\n",
       "       [ 1.46449290e+00,  2.07716766e+00, -1.12517381e+00],\n",
       "       [ 1.47813298e+00,  2.04861205e+00, -1.26188163e+00],\n",
       "       [ 1.48832080e+00,  2.01668846e+00, -1.39486202e+00],\n",
       "       [ 1.49450206e+00,  1.98191780e+00, -1.52423039e+00],\n",
       "       [ 1.49622761e+00,  1.94488843e+00, -1.65009127e+00],\n",
       "       [ 1.49315607e+00,  1.90623399e+00, -1.77253871e+00],\n",
       "       [ 1.48505263e+00,  1.86661313e+00, -1.89165662e+00],\n",
       "       [ 1.47178486e+00,  1.82669138e+00, -2.00751911e+00],\n",
       "       [ 1.45331615e+00,  1.78712545e+00, -2.12019085e+00],\n",
       "       [ 1.42969742e+00,  1.74854994e+00, -2.22972729e+00],\n",
       "       [ 1.40105767e+00,  1.71156646e+00, -2.33617488e+00],\n",
       "       [ 1.36759368e+00,  1.67673505e+00, -2.43957125e+00],\n",
       "       [ 1.32955957e+00,  1.64456771e+00, -2.53994532e+00],\n",
       "       [ 1.28725614e+00,  1.61552395e+00, -2.63731746e+00],\n",
       "       [ 1.24102059e+00,  1.59000810e+00, -2.73169956e+00],\n",
       "       [ 1.19121666e+00,  1.56836808e+00, -2.82309529e+00],\n",
       "       [ 1.13822537e+00,  1.55089566e+00, -2.91150027e+00],\n",
       "       [ 1.08243663e+00,  1.53782766e+00, -2.99690259e+00],\n",
       "       [ 1.02424158e+00,  1.52934816e+00, -3.07928345e+00],\n",
       "       [ 9.64026018e-01,  1.52559131e+00, -3.15861817e+00],\n",
       "       [ 9.02164713e-01,  1.52664463e+00, -3.23487763e+00],\n",
       "       [ 8.39016784e-01,  1.53255253e+00, -3.30803025e+00],\n",
       "       [ 7.74922083e-01,  1.54331991e+00, -3.37804460e+00],\n",
       "       [ 7.10198543e-01,  1.55891565e+00, -3.44489260e+00],\n",
       "       [ 6.45140421e-01,  1.57927596e+00, -3.50855330e+00],\n",
       "       [ 5.80017292e-01,  1.60430738e+00, -3.56901701e+00],\n",
       "       [ 5.15073671e-01,  1.63388968e+00, -3.62628949e+00],\n",
       "       [ 4.50529053e-01,  1.66787857e+00, -3.68039565e+00],\n",
       "       [ 3.86578242e-01,  1.70610861e+00, -3.73138235e+00],\n",
       "       [ 3.23391834e-01,  1.74839618e+00, -3.77931972e+00],\n",
       "       [ 2.61116824e-01,  1.79454301e+00, -3.82430092e+00],\n",
       "       [ 1.99877335e-01,  1.84433993e+00, -3.86644011e+00],\n",
       "       [ 1.39775548e-01,  1.89757094e+00, -3.90586907e+00],\n",
       "       [ 8.08928720e-02,  1.95401730e+00, -3.94273279e+00],\n",
       "       [ 2.32914054e-02,  2.01346145e+00, -3.97718478e+00],\n",
       "       [-3.29843530e-02,  2.07569043e+00, -4.00938243e+00],\n",
       "       [-8.79055870e-02,  2.14049876e+00, -4.03948292e+00],\n",
       "       [-1.41457144e-01,  2.20769058e+00, -4.06763985e+00],\n",
       "       [-1.93635504e-01,  2.27708114e+00, -4.09400079e+00],\n",
       "       [-2.44446832e-01,  2.34849767e+00, -4.11870547e+00],\n",
       "       [-2.93905169e-01,  2.42177974e+00, -4.14188479e+00],\n",
       "       [-3.42030811e-01,  2.49677916e+00, -4.16366031e+00],\n",
       "       [-3.88848887e-01,  2.57335970e+00, -4.18414416e+00],\n",
       "       [-4.34388153e-01,  2.65139647e+00, -4.20343931e+00],\n",
       "       [-4.78679967e-01,  2.73077524e+00, -4.22163992e+00],\n",
       "       [-5.21757454e-01,  2.81139175e+00, -4.23883192e+00],\n",
       "       [-5.63654822e-01,  2.89315086e+00, -4.25509361e+00],\n",
       "       [-6.04406812e-01,  2.97596585e+00, -4.27049625e+00],\n",
       "       [-6.44048270e-01,  3.05975763e+00, -4.28510468e+00],\n",
       "       [-6.82613807e-01,  3.14445410e+00, -4.29897793e+00],\n",
       "       [-7.20137538e-01,  3.22998945e+00, -4.31216972e+00],\n",
       "       [-7.56652890e-01,  3.31630361e+00, -4.32472901e+00],\n",
       "       [-7.92192458e-01,  3.40334167e+00, -4.33670044e+00],\n",
       "       [-8.26787902e-01,  3.49105342e+00, -4.34812477e+00],\n",
       "       [-8.60469880e-01,  3.57939286e+00, -4.35903927e+00],\n",
       "       [-8.93268007e-01,  3.66831783e+00, -4.36947801e+00],\n",
       "       [-9.25210827e-01,  3.75778964e+00, -4.37947225e+00],\n",
       "       [-9.56325812e-01,  3.84777271e+00, -4.38905064e+00],\n",
       "       [-9.86639369e-01,  3.93823435e+00, -4.39823953e+00],\n",
       "       [-1.01617685e+00,  4.02914441e+00, -4.40706317e+00]])"
      ]
     },
     "execution_count": 5,
     "metadata": {},
     "output_type": "execute_result"
    }
   ],
   "source": [
    "robot.run()"
   ]
  },
  {
   "cell_type": "markdown",
   "metadata": {},
   "source": [
    "`x.hist` returns the history of vector `x` that represent the current position and orientation of the robot: $\\left[ x(t), \\ y(t), \\ \\theta(t) \\right]$"
   ]
  },
  {
   "cell_type": "markdown",
   "metadata": {},
   "source": [
    "Finally, plots the path obtained by each step of simulation (only $x$ and $y$)"
   ]
  },
  {
   "cell_type": "code",
   "execution_count": 6,
   "metadata": {},
   "outputs": [
    {
     "data": {
      "text/plain": [
       "Text(0.5, 1.0, 'Robot location')"
      ]
     },
     "execution_count": 6,
     "metadata": {},
     "output_type": "execute_result"
    },
    {
     "data": {
      "image/png": "[encoded data removed]",
      "text/plain": [
       "<Figure size 640x480 with 1 Axes>"
      ]
     },
     "metadata": {},
     "output_type": "display_data"
    }
   ],
   "source": [
    "x = np.insert(robot.x_hist[:, 0], 0, robot.x0[0])\n",
    "y = np.insert(robot.x_hist[:, 1], 0, robot.x0[1])\n",
    "\n",
    "plt.plot(x, y, marker='.')\n",
    "plt.axis('equal')\n",
    "plt.xlabel('x')\n",
    "plt.ylabel('y')\n",
    "plt.title('Robot location')"
   ]
  }
 ],
 "metadata": {
  "kernelspec": {
   "display_name": "robotics",
   "language": "python",
   "name": "python3"
  },
  "language_info": {
   "codemirror_mode": {
    "name": "ipython",
    "version": 3
   },
   "file_extension": ".py",
   "mimetype": "text/x-python",
   "name": "python",
   "nbconvert_exporter": "python",
   "pygments_lexer": "ipython3",
   "version": "3.11.2"
  }
 },
 "nbformat": 4,
 "nbformat_minor": 2
}
